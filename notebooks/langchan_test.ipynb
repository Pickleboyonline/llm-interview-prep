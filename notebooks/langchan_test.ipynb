{
 "cells": [
  {
   "cell_type": "markdown",
   "metadata": {},
   "source": [
    "TODO: \n",
    " - Generate or get example resume\n",
    " - Test connection with ollama with langchain\n",
    " - Be able to insert resume into chat\n",
    " - Test conversations and prompts\n",
    " - Test props for scoring"
   ]
  },
  {
   "cell_type": "code",
   "execution_count": 1,
   "metadata": {},
   "outputs": [],
   "source": [
    "from langchain_ollama import ChatOllama"
   ]
  },
  {
   "cell_type": "markdown",
   "metadata": {},
   "source": []
  },
  {
   "cell_type": "code",
   "execution_count": 2,
   "metadata": {},
   "outputs": [],
   "source": [
    "llm = ChatOllama(\n",
    "    model=\"llama3\",\n",
    "    temperature=0\n",
    ")"
   ]
  },
  {
   "cell_type": "code",
   "execution_count": 8,
   "metadata": {},
   "outputs": [],
   "source": [
    "msg = llm.invoke([\"give a two page resume for a 10 years experienced full stack software engineer in LaTex format\"])"
   ]
  },
  {
   "cell_type": "code",
   "execution_count": 9,
   "metadata": {},
   "outputs": [
    {
     "data": {
      "text/plain": [
       "'Here is a sample LaTeX resume for a 10-year experienced full-stack software engineer:\\n\\n\\\\documentclass[11pt]{article}\\n\\\\usepackage{fontspec}\\n\\\\setmainfont{Helvetica}\\n\\n\\\\begin{document}\\n\\n\\\\section*{\\\\Large John Doe, Full-Stack Software Engineer}\\n\\n\\\\address\\n123 Main St.\\nAnytown, USA 12345\\n\\n\\\\phone (555) 555-5555\\n\\n\\\\email [johndoe@email.com](mailto:johndoe@email.com)\\n\\n\\\\section*{\\\\large Summary}\\nHighly experienced full-stack software engineer with 10 years of experience in designing and developing scalable, efficient, and secure web applications. Proficient in a wide range of programming languages, including JavaScript, Python, Java, and C++. Strong understanding of computer science concepts, including data structures, algorithms, and software design patterns.\\n\\n\\\\section*{\\\\large Technical Skills}\\n\\n\\\\begin{itemize}\\n\\\\item Programming Languages: JavaScript (ES6+), Python, Java, C++\\n\\\\item Frameworks: React, Angular, Vue.js\\n\\\\item Databases: MySQL, MongoDB, PostgreSQL\\n\\\\item Operating Systems: Windows, Linux, macOS\\n\\\\item Agile Methodologies: Scrum, Kanban\\n\\\\end{itemize}\\n\\n\\\\section*{\\\\large Professional Experience}\\n\\n\\\\subsection*{\\\\large Senior Software Engineer, ABC Company (2018-Present)}\\n\\n\\\\begin{itemize}\\n\\\\item Designed and developed multiple full-stack web applications using React, Node.js, and MongoDB\\n\\\\item Collaborated with cross-functional teams to deliver high-quality products on time and within budget\\n\\\\item Implemented automated testing frameworks using Jest and Enzyme\\n\\\\item Mentored junior engineers and contributed to code reviews\\n\\\\end{itemize}\\n\\n\\\\subsection*{\\\\large Software Engineer, DEF Company (2015-2018)}\\n\\n\\\\begin{itemize}\\n\\\\item Developed multiple web applications using Angular, Java, and MySQL\\n\\\\item Worked on a team of 10 engineers to deliver a large-scale e-commerce platform\\n\\\\item Implemented security features using OAuth and JWT\\n\\\\item Participated in code reviews and contributed to the development of best practices\\n\\\\end{itemize}\\n\\n\\\\section*{\\\\large Education}\\n\\n\\\\subsection*{\\\\large Bachelor of Science in Computer Science, XYZ University (2010-2014)}\\n\\n\\\\begin{itemize}\\n\\\\item Coursework: Data Structures, Algorithms, Computer Systems, Software Engineering, and Database Management\\n\\\\end{itemize}\\n\\n\\\\section*{\\\\large Certifications}\\n\\n\\\\subsection*{\\\\large Certified Scrum Master (CSM), Scrum Alliance (2016)}\\n\\n\\\\section*{\\\\large References}\\n\\nAvailable upon request.\\n\\n\\\\end{document}\\n\\nThis is just a sample resume, and you should customize it to fit your own experiences and style. You can also add or remove sections as needed.'"
      ]
     },
     "execution_count": 9,
     "metadata": {},
     "output_type": "execute_result"
    }
   ],
   "source": [
    "msg.content"
   ]
  },
  {
   "cell_type": "code",
   "execution_count": null,
   "metadata": {},
   "outputs": [],
   "source": []
  }
 ],
 "metadata": {
  "kernelspec": {
   "display_name": ".venv",
   "language": "python",
   "name": "python3"
  },
  "language_info": {
   "codemirror_mode": {
    "name": "ipython",
    "version": 3
   },
   "file_extension": ".py",
   "mimetype": "text/x-python",
   "name": "python",
   "nbconvert_exporter": "python",
   "pygments_lexer": "ipython3",
   "version": "3.11.9"
  }
 },
 "nbformat": 4,
 "nbformat_minor": 2
}
